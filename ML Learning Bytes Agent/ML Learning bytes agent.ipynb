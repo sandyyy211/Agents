{
 "cells": [
  {
   "cell_type": "markdown",
   "metadata": {},
   "source": [
    "# ML Learning Bytes Agent\n",
    "\n",
    "This notebook demonstrates how to create an AI agent system that generates and sends educational content about Machine Learning via email. The system consists of multiple specialized agents working together to create learning materials.\n",
    "\n",
    "## Overview\n",
    "- The system generates three types of ML learning content:\n",
    "  1. Core ML concepts with explanations and examples\n",
    "  2. ML interview questions and answers\n",
    "  3. Small ML coding problems\n",
    "- Content is formatted as HTML emails and sent to users\n",
    "- Uses SendGrid for email delivery\n",
    "\n",
    "## System Architecture\n",
    "1. **Specialized Agents**:\n",
    "   - ML Concept Agent: Explains core ML concepts\n",
    "   - Interview Q&A Agent: Creates interview questions and answers\n",
    "   - Mini Problem Agent: Generates coding problems\n",
    "   - HTML Converter Agent: Formats content for email\n",
    "\n",
    "2. **Learning Manager**: Coordinates the entire system by:\n",
    "   - Receiving user requests\n",
    "   - Selecting appropriate specialized agent\n",
    "   - Formatting content\n",
    "   - Sending emails\n",
    "   "
   ]
  },
  {
   "cell_type": "markdown",
   "metadata": {},
   "source": [
    "## Before we start - some setup:\n",
    "\n",
    "\n",
    "Please visit Sendgrid at: https://sendgrid.com/\n",
    "\n",
    "(Sendgrid is a Twilio company for sending emails.)\n",
    "\n",
    "Please set up an account - it's free! (at least, for me, right now).\n",
    "\n",
    "Once you've created an account, click on:\n",
    "\n",
    "Settings (left sidebar) >> API Keys >> Create API Key (button on top right)\n",
    "\n",
    "Copy the key to the clipboard, then add a new line to your .env file:\n",
    "\n",
    "`SENDGRID_API_KEY=xxxx`\n",
    "\n",
    "And also, within SendGrid, go to:\n",
    "\n",
    "Settings (left sidebar) >> Sender Authentication >> \"Verify a Single Sender\"  \n",
    "and verify that your own email address is a real email address, so that SendGrid can send emails for you.\n"
   ]
  },
  {
   "cell_type": "code",
   "execution_count": null,
   "metadata": {},
   "outputs": [],
   "source": []
  },
  {
   "cell_type": "code",
   "execution_count": 25,
   "metadata": {},
   "outputs": [],
   "source": [
    "# Import required libraries\n",
    "from dotenv import load_dotenv  # For loading environment variables\n",
    "from agents import Agent, Runner, trace, function_tool  # Custom agent framework\n",
    "from openai.types.responses import ResponseTextDeltaEvent\n",
    "from typing import Dict\n",
    "import sendgrid  # For email functionality\n",
    "import os\n",
    "from sendgrid.helpers.mail import Mail, Email, To, Content\n",
    "import asyncio  # For async operations"
   ]
  },
  {
   "cell_type": "code",
   "execution_count": 26,
   "metadata": {},
   "outputs": [
    {
     "data": {
      "text/plain": [
       "True"
      ]
     },
     "execution_count": 26,
     "metadata": {},
     "output_type": "execute_result"
    }
   ],
   "source": [
    "load_dotenv(override=True)"
   ]
  },
  {
   "cell_type": "markdown",
   "metadata": {},
   "source": [
    "## Step 1: Creating instructions for each agent"
   ]
  },
  {
   "cell_type": "code",
   "execution_count": 27,
   "metadata": {},
   "outputs": [],
   "source": [
    "# Instructions for the ML Concept Agent - generates explanations of ML concepts\n",
    "\n",
    "instructions1 = \"\"\"Explain a core machine learning concept in under 150 words. Include:\n",
    "\n",
    "A simple definition\n",
    "\n",
    "An intuitive explanation (preferably with analogy)\n",
    "\n",
    "A real-world use case\n",
    "\n",
    "A small code snippet if relevant\n",
    "Output should be in html format suitable for email body\n",
    "Startiing should be introduction to mail stating that it is a learning bite\"\"\"\n",
    "\n",
    "# Instructions for the ML Interview Q&A Agent - generates interview questions and answers\n",
    "instructions2 = \"\"\"Pose a realistic scenario-based ML interview question and provide:\n",
    "\n",
    "The question\n",
    "\n",
    "A structured reasoning process (e.g., steps or options)\n",
    "\n",
    "A concise sample answer (2–4 bullet points)\n",
    "\n",
    "A bonus tip or common mistake to avoid\n",
    "Output should be in html format suitable for email body\n",
    "Startiing should be introduction to mail stating that it is a ML interview question\"\"\"\n",
    "\n",
    "# Instructions for the Mini Problem Agent - generates small ML coding problems\n",
    "instructions3 = \"\"\"Create a small ML coding problem that can be solved in under 30 minutes. Include:\n",
    "\n",
    "A brief scenario\n",
    "\n",
    "Clear input/output expectations\n",
    "\n",
    "Starter code and a hint\n",
    "Output should be in html format suitable for email body\n",
    "Startiing should be introduction to mail stating that it is a ML coding problem\"\"\"\n",
    "\n",
    "# Instructions for the HTML Converter Agent - converts text to HTML\n",
    "html_instructions = \"You can convert a text email body to an HTML email body. \\\n",
    "You are given a text email body which might have some markdown \\\n",
    "and you need to convert it to an HTML email body with simple, clear, compelling layout and design.\""
   ]
  },
  {
   "cell_type": "markdown",
   "metadata": {},
   "source": [
    "## Steps 2: Creating agents\n"
   ]
  },
  {
   "cell_type": "code",
   "execution_count": 28,
   "metadata": {},
   "outputs": [],
   "source": [
    "# Creating the ML Concept Agent\n",
    "learning_agent1 = Agent(\n",
    "        name=\"ML Concept Agent\",\n",
    "        instructions=instructions1,\n",
    "        model=\"gpt-4o-mini\"\n",
    ")\n",
    "\n",
    "# Creating the ML Interview Q&A Agent\n",
    "learning_agent2 = Agent(\n",
    "        name=\"Interview Q&A Agent \",\n",
    "        instructions=instructions2,\n",
    "        model=\"gpt-4o-mini\"\n",
    ")\n",
    "\n",
    "# Creating the Mini Problem Agent\n",
    "learning_agent3 = Agent(\n",
    "        name=\"Mini Problem Agent\",\n",
    "        instructions=instructions3,\n",
    "        model=\"gpt-4o-mini\"\n",
    ")\n",
    "\n",
    "# Creating the HTML Converter Agent\n",
    "html_converter = Agent(name=\"HTML email body converter\", instructions=html_instructions, model=\"gpt-4o-mini\")\n"
   ]
  },
  {
   "cell_type": "markdown",
   "metadata": {},
   "source": [
    "## Steps 3: Creating tools for above agents\n",
    "\n",
    "Simply wrap your function with the decorator `@function_tool`"
   ]
  },
  {
   "cell_type": "code",
   "execution_count": 29,
   "metadata": {},
   "outputs": [],
   "source": [
    "# Tool for sending HTML emails using SendGrid\n",
    "@function_tool\n",
    "def send_html_email(subject: str, html_body: str) -> Dict[str, str]:\n",
    "    \"\"\" Send out an email with the given subject and HTML body to all sales prospects \"\"\"\n",
    "    sg = sendgrid.SendGridAPIClient(api_key=os.environ.get('learning_agent_key'))\n",
    "    from_email = Email(\"sandyyy211@gmail.com\")  # Change to your verified sender\n",
    "    to_email = To(\"sandyyy11@gmail.com\")  # Change to your recipient\n",
    "    content = Content(\"text/html\", html_body)\n",
    "    mail = Mail(from_email, to_email, \"ML Learning Bite\", content).get()\n",
    "    response = sg.client.mail.send.post(request_body=mail)\n",
    "    return {\"status\": \"success\"}"
   ]
  },
  {
   "cell_type": "markdown",
   "metadata": {},
   "source": [
    "### And you can also convert an Agent into a tool"
   ]
  },
  {
   "cell_type": "markdown",
   "metadata": {},
   "source": [
    "\n",
    "\n",
    "# A tool for each of our 4 email-writing agents\n",
    "\n",
    "# And a tool for our function to send emails"
   ]
  },
  {
   "cell_type": "code",
   "execution_count": 30,
   "metadata": {},
   "outputs": [
    {
     "data": {
      "text/plain": [
       "[FunctionTool(name='learning_agent1', description='Explain a core machine learning concept in under 150 words. Include:\\n\\nA simple definition\\n\\nAn intuitive explanation (preferably with analogy)\\n\\nA real-world use case\\n\\nA small code snippet if relevant\\nOutput should be in html format suitable for email body\\nStartiing should be introduction to mail stating that it is a learning bite', params_json_schema={'properties': {'input': {'title': 'Input', 'type': 'string'}}, 'required': ['input'], 'title': 'learning_agent1_args', 'type': 'object', 'additionalProperties': False}, on_invoke_tool=<function function_tool.<locals>._create_function_tool.<locals>._on_invoke_tool at 0x10aabe020>, strict_json_schema=True),\n",
       " FunctionTool(name='learning_agent2', description='Pose a realistic scenario-based ML interview question and provide:\\n\\nThe question\\n\\nA structured reasoning process (e.g., steps or options)\\n\\nA concise sample answer (2–4 bullet points)\\n\\nA bonus tip or common mistake to avoid\\nOutput should be in html format suitable for email body\\nStartiing should be introduction to mail stating that it is a ML interview question', params_json_schema={'properties': {'input': {'title': 'Input', 'type': 'string'}}, 'required': ['input'], 'title': 'learning_agent2_args', 'type': 'object', 'additionalProperties': False}, on_invoke_tool=<function function_tool.<locals>._create_function_tool.<locals>._on_invoke_tool at 0x10aabfe20>, strict_json_schema=True),\n",
       " FunctionTool(name='learning_agent3', description='Create a small ML coding problem that can be solved in under 30 minutes. Include:\\n\\nA brief scenario\\n\\nClear input/output expectations\\n\\nStarter code and a hint\\nOutput should be in html format suitable for email body\\nStartiing should be introduction to mail stating that it is a ML coding problem', params_json_schema={'properties': {'input': {'title': 'Input', 'type': 'string'}}, 'required': ['input'], 'title': 'learning_agent3_args', 'type': 'object', 'additionalProperties': False}, on_invoke_tool=<function function_tool.<locals>._create_function_tool.<locals>._on_invoke_tool at 0x10aabe0c0>, strict_json_schema=True),\n",
       " FunctionTool(name='html_converter', description='Convert a text email body to an HTML email body', params_json_schema={'properties': {'input': {'title': 'Input', 'type': 'string'}}, 'required': ['input'], 'title': 'html_converter_args', 'type': 'object', 'additionalProperties': False}, on_invoke_tool=<function function_tool.<locals>._create_function_tool.<locals>._on_invoke_tool at 0x108c4a8e0>, strict_json_schema=True),\n",
       " FunctionTool(name='send_html_email', description='Send out an email with the given subject and HTML body to all sales prospects', params_json_schema={'properties': {'subject': {'title': 'Subject', 'type': 'string'}, 'html_body': {'title': 'Html Body', 'type': 'string'}}, 'required': ['subject', 'html_body'], 'title': 'send_html_email_args', 'type': 'object', 'additionalProperties': False}, on_invoke_tool=<function function_tool.<locals>._create_function_tool.<locals>._on_invoke_tool at 0x10aabf600>, strict_json_schema=True)]"
      ]
     },
     "execution_count": 30,
     "metadata": {},
     "output_type": "execute_result"
    }
   ],
   "source": [
    "\n",
    "# Convert each agent into a tool with specific names and descriptions\n",
    "# ML Concept Agent tool for explaining core ML concepts\n",
    "tool1 = learning_agent1.as_tool(tool_name=\"learning_agent1\", tool_description=instructions1)\n",
    "\n",
    "# Interview Q&A Agent tool for generating interview questions and answers\n",
    "tool2 = learning_agent2.as_tool(tool_name=\"learning_agent2\", tool_description=instructions2)\n",
    "\n",
    "# Mini Problem Agent tool for creating coding problems\n",
    "tool3 = learning_agent3.as_tool(tool_name=\"learning_agent3\", tool_description=instructions3)\n",
    "\n",
    "# HTML Converter tool for formatting content into email-friendly HTML\n",
    "html_tool = html_converter.as_tool(tool_name=\"html_converter\",tool_description=\"Convert a text email body to an HTML email body\")\n",
    "\n",
    "# Combine all tools into a list for the learning manager to use\n",
    "tools = [tool1, tool2, tool3, html_tool, send_html_email]\n",
    "\n",
    "# Display the list of available tools\n",
    "tools"
   ]
  },
  {
   "cell_type": "markdown",
   "metadata": {},
   "source": [
    "## And now it's time for our Learning Manager - our planning agent that will autonomously pick up right agent"
   ]
  },
  {
   "cell_type": "code",
   "execution_count": 31,
   "metadata": {},
   "outputs": [],
   "source": [
    "# Define instructions for the Learning Manager agent\n",
    "# The agent is responsible for coordinating ML learning content generation and delivery\n",
    "instructions =\"\"\"You are a ML learning resource agent. You use the tools given to you to generate emails having learning bites for ML. \\\n",
    "You never generate learning bites emails yourself; you always use the tools. \\\n",
    "You have 3 learning_agent tools at your disposal. \\\n",
    "Based on user input you pick the relevant agent and generate content.\n",
    "Then use html_converter tool to convert the content to html format.\n",
    "Then use the send_email tool to send the  email to the user.\"\"\"\n",
    "\n",
    "# Initialize the Learning Manager agent with specified name, instructions, tools and model\n",
    "learning_manager = Agent(name=\"Learning Manager\", instructions=instructions, tools=tools, model=\"gpt-4o-mini\")\n",
    "\n",
    "# Define the user's query about regularization in ML\n",
    "message = \"Explain regularisation in Machine Learning\"\n",
    "\n",
    "# Execute the learning manager with tracing enabled to monitor the process\n",
    "with trace(\"Learning manager\"):\n",
    "    result = await Runner.run(learning_manager, message)"
   ]
  },
  {
   "cell_type": "markdown",
   "metadata": {},
   "source": [
    "## Remember to check the trace\n",
    "\n",
    "https://platform.openai.com/traces\n",
    "\n",
    "And then check your email!!\n"
   ]
  }
 ],
 "metadata": {
  "kernelspec": {
   "display_name": ".venv",
   "language": "python",
   "name": "python3"
  },
  "language_info": {
   "codemirror_mode": {
    "name": "ipython",
    "version": 3
   },
   "file_extension": ".py",
   "mimetype": "text/x-python",
   "name": "python",
   "nbconvert_exporter": "python",
   "pygments_lexer": "ipython3",
   "version": "3.12.7"
  }
 },
 "nbformat": 4,
 "nbformat_minor": 2
}
